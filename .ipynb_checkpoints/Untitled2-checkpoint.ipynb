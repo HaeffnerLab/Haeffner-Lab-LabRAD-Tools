{
 "cells": [
  {
   "cell_type": "code",
   "execution_count": 5,
   "metadata": {},
   "outputs": [],
   "source": [
    "a = {}"
   ]
  },
  {
   "cell_type": "code",
   "execution_count": 6,
   "metadata": {},
   "outputs": [],
   "source": [
    "import numpy"
   ]
  },
  {
   "cell_type": "code",
   "execution_count": 7,
   "metadata": {},
   "outputs": [],
   "source": [
    "c = a['aa'] = numpy.array([1,2,3])"
   ]
  },
  {
   "cell_type": "code",
   "execution_count": 8,
   "metadata": {},
   "outputs": [],
   "source": [
    "a['bb'] = numpy.array([4,5,6])"
   ]
  },
  {
   "cell_type": "code",
   "execution_count": 9,
   "metadata": {},
   "outputs": [],
   "source": [
    "def arraydict_join(dic, key_list = None):\n",
    "    '''Create a joined array from selected keys in a dictionary'''\n",
    "    array = numpy.array([])\n",
    "    if key_list == None:\n",
    "        for key in dic.keys():\n",
    "            if type(dic[key]) == numpy.ndarray:\n",
    "                array = numpy.append(array, dic[key])\n",
    "            else:\n",
    "                raise Exception('Value type in dictionary is not numpy.ndarray.')\n",
    "    else:\n",
    "        for key in key_list:\n",
    "            if key not in dic.keys():\n",
    "                raise Exception('{0} not in {1}'.format(key, dic.keys()))\n",
    "            elif type(dic[key]) == numpy.ndarray:\n",
    "                array = numpy.append(array, dic[key])\n",
    "            else:\n",
    "                raise Exception('Value type in dictionary is not numpy.ndarray.')\n",
    "    return array"
   ]
  },
  {
   "cell_type": "code",
   "execution_count": 11,
   "metadata": {},
   "outputs": [
    {
     "data": {
      "text/plain": [
       "array([], dtype=float64)"
      ]
     },
     "execution_count": 11,
     "metadata": {},
     "output_type": "execute_result"
    }
   ],
   "source": [
    "arraydict_join(a, [])"
   ]
  },
  {
   "cell_type": "code",
   "execution_count": 12,
   "metadata": {},
   "outputs": [],
   "source": [
    "client_list = ['lattice', 'cct', 'sqip', 'space_time']"
   ]
  },
  {
   "cell_type": "code",
   "execution_count": 14,
   "metadata": {},
   "outputs": [
    {
     "name": "stdout",
     "output_type": "stream",
     "text": [
      "0 lattice\n",
      "signal: new save lattice\n",
      "1 cct\n",
      "signal: new save cct\n",
      "2 sqip\n",
      "signal: new save sqip\n",
      "3 space time\n",
      "signal: new save space time\n"
     ]
    }
   ],
   "source": [
    "for i, client in enumerate(client_list):\n",
    "    print i, client\n",
    "    print 'signal: new save {}'.format(client)"
   ]
  },
  {
   "cell_type": "code",
   "execution_count": null,
   "metadata": {},
   "outputs": [],
   "source": []
  }
 ],
 "metadata": {
  "kernelspec": {
   "display_name": "Python 2",
   "language": "python",
   "name": "python2"
  },
  "language_info": {
   "codemirror_mode": {
    "name": "ipython",
    "version": 2
   },
   "file_extension": ".py",
   "mimetype": "text/x-python",
   "name": "python",
   "nbconvert_exporter": "python",
   "pygments_lexer": "ipython2",
   "version": "2.7.14"
  }
 },
 "nbformat": 4,
 "nbformat_minor": 2
}
