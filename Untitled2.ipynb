{
 "cells": [
  {
   "cell_type": "code",
   "execution_count": 66,
   "metadata": {},
   "outputs": [],
   "source": [
    "a = {}"
   ]
  },
  {
   "cell_type": "code",
   "execution_count": 67,
   "metadata": {},
   "outputs": [],
   "source": [
    "import numpy"
   ]
  },
  {
   "cell_type": "code",
   "execution_count": 68,
   "metadata": {},
   "outputs": [],
   "source": [
    "c = a['aa'] = numpy.array([1,2,3])"
   ]
  },
  {
   "cell_type": "code",
   "execution_count": 69,
   "metadata": {},
   "outputs": [],
   "source": [
    "a['bb'] = numpy.array([4,5,6])"
   ]
  },
  {
   "cell_type": "code",
   "execution_count": 70,
   "metadata": {},
   "outputs": [],
   "source": [
    "def arraydict_join(dic, key_list = None):\n",
    "    '''Create a joined array from selected keys in a dictionary'''\n",
    "    array = numpy.array([])\n",
    "    if key_list == None:\n",
    "        for key in dic.keys():\n",
    "            if type(dic[key]) == numpy.ndarray:\n",
    "                array = numpy.append(array, dic[key])\n",
    "            else:\n",
    "                raise Exception('Value type in dictionary is not numpy.ndarray.')\n",
    "    else:\n",
    "        for key in key_list:\n",
    "            if key not in dic.keys():\n",
    "                raise Exception('{0} not in {1}'.format(key, dic.keys()))\n",
    "            elif type(dic[key]) == numpy.ndarray:\n",
    "                array = numpy.append(array, dic[key])\n",
    "            else:\n",
    "                raise Exception('Value type in dictionary is not numpy.ndarray.')\n",
    "    return array"
   ]
  },
  {
   "cell_type": "code",
   "execution_count": 71,
   "metadata": {},
   "outputs": [
    {
     "data": {
      "text/plain": [
       "array([], dtype=float64)"
      ]
     },
     "execution_count": 71,
     "metadata": {},
     "output_type": "execute_result"
    }
   ],
   "source": [
    "arraydict_join(a, [])"
   ]
  },
  {
   "cell_type": "code",
   "execution_count": 72,
   "metadata": {},
   "outputs": [],
   "source": [
    "client_list = ['lattice', 'cct', 'sqip', 'space time']"
   ]
  },
  {
   "cell_type": "code",
   "execution_count": 73,
   "metadata": {},
   "outputs": [
    {
     "name": "stdout",
     "output_type": "stream",
     "text": [
      "0 lattice\n",
      "signal: new save lattice\n",
      "1 cct\n",
      "signal: new save cct\n",
      "2 sqip\n",
      "signal: new save sqip\n",
      "3 space time\n",
      "signal: new save space time\n"
     ]
    }
   ],
   "source": [
    "for i, client in enumerate(client_list):\n",
    "    print i, client\n",
    "    print 'signal: new save {}'.format(client)"
   ]
  },
  {
   "cell_type": "code",
   "execution_count": 74,
   "metadata": {},
   "outputs": [
    {
     "data": {
      "text/plain": [
       "'ab'"
      ]
     },
     "execution_count": 74,
     "metadata": {},
     "output_type": "execute_result"
    }
   ],
   "source": [
    "'a'+'b'"
   ]
  },
  {
   "cell_type": "code",
   "execution_count": 75,
   "metadata": {},
   "outputs": [
    {
     "data": {
      "text/plain": [
       "'spacetime'"
      ]
     },
     "execution_count": 75,
     "metadata": {},
     "output_type": "execute_result"
    }
   ],
   "source": [
    "'space time'.replace(' ', '')"
   ]
  },
  {
   "cell_type": "code",
   "execution_count": 76,
   "metadata": {},
   "outputs": [
    {
     "data": {
      "text/plain": [
       "'yield server.signal__new_save_space_time(c.ID + 1, context = self.context_global)'"
      ]
     },
     "execution_count": 76,
     "metadata": {},
     "output_type": "execute_result"
    }
   ],
   "source": [
    "\"yield server.signal__new_save_\" + client_list[3].replace(' ', '_') + \"(c.ID + 1, context = self.context_global)\""
   ]
  },
  {
   "cell_type": "code",
   "execution_count": 77,
   "metadata": {},
   "outputs": [],
   "source": [
    "from labrad.server import setting, LabradServer, Signal"
   ]
  },
  {
   "cell_type": "code",
   "execution_count": 78,
   "metadata": {},
   "outputs": [],
   "source": [
    "onNewSave = dict.fromkeys(client_list)\n",
    "for i, client in enumerate(client_list):\n",
    "    onNewSave[client] = Signal( 768121 + i, 'signal: new save {}'.format(client), '')"
   ]
  },
  {
   "cell_type": "code",
   "execution_count": 79,
   "metadata": {},
   "outputs": [
    {
     "data": {
      "text/plain": [
       "<labrad.server.Signal at 0x7f2a3b1417d0>"
      ]
     },
     "execution_count": 79,
     "metadata": {},
     "output_type": "execute_result"
    }
   ],
   "source": [
    "onNewSave['cct']"
   ]
  },
  {
   "cell_type": "code",
   "execution_count": 87,
   "metadata": {},
   "outputs": [
    {
     "name": "stdout",
     "output_type": "stream",
     "text": [
      "sqip\n"
     ]
    }
   ],
   "source": [
    "i = 1\n",
    "exec(\"client = client_list[1 + i]\")\n",
    "print client"
   ]
  },
  {
   "cell_type": "code",
   "execution_count": 81,
   "metadata": {
    "scrolled": true
   },
   "outputs": [
    {
     "data": {
      "text/plain": [
       "\"onNewSavespacetime = Signal( 768121 + i, 'signal: new save space time', '')\""
      ]
     },
     "execution_count": 81,
     "metadata": {},
     "output_type": "execute_result"
    }
   ],
   "source": [
    "\"onNewSave\" + client.replace(' ', '') + \" = Signal( 768121 + i, 'signal: new save \" + client + \"', '')\""
   ]
  },
  {
   "cell_type": "code",
   "execution_count": 88,
   "metadata": {},
   "outputs": [
    {
     "data": {
      "text/plain": [
       "'yield server.signal__new_save_space_time(c.ID + 1, context = self.context_global)'"
      ]
     },
     "execution_count": 88,
     "metadata": {},
     "output_type": "execute_result"
    }
   ],
   "source": [
    "client_name = 'space time'\n",
    "\"yield server.signal__new_save_\" + client_name.replace(' ', '_') + \"(c.ID + 1, context = self.context_global)\""
   ]
  },
  {
   "cell_type": "code",
   "execution_count": 91,
   "metadata": {},
   "outputs": [
    {
     "data": {
      "text/plain": [
       "'yield server.signal__new_save_space_time(c.ID + 1, context = self.context_global)'"
      ]
     },
     "execution_count": 91,
     "metadata": {},
     "output_type": "execute_result"
    }
   ],
   "source": [
    "exe_str = \"yield server.\" + \"signal__new_save_\" + client_name.replace(' ', '_') + \"(c.ID + 1, context = self.context_global)\"\n",
    "exe_str"
   ]
  },
  {
   "cell_type": "code",
   "execution_count": 93,
   "metadata": {},
   "outputs": [
    {
     "data": {
      "text/plain": [
       "'@inlineCallbacks\\ndef receive_save_signal(self):\\n\\tyield server.signal__new_save_space_time(c.ID + 1, context = self.context_global)\\n'"
      ]
     },
     "execution_count": 93,
     "metadata": {},
     "output_type": "execute_result"
    }
   ],
   "source": [
    "\"@inlineCallbacks\\ndef receive_save_signal(self):\\n\\t\" + exe_str + \"\\n\""
   ]
  },
  {
   "cell_type": "code",
   "execution_count": null,
   "metadata": {},
   "outputs": [],
   "source": []
  }
 ],
 "metadata": {
  "kernelspec": {
   "display_name": "Python 2",
   "language": "python",
   "name": "python2"
  },
  "language_info": {
   "codemirror_mode": {
    "name": "ipython",
    "version": 2
   },
   "file_extension": ".py",
   "mimetype": "text/x-python",
   "name": "python",
   "nbconvert_exporter": "python",
   "pygments_lexer": "ipython2",
   "version": "2.7.14"
  }
 },
 "nbformat": 4,
 "nbformat_minor": 2
}
